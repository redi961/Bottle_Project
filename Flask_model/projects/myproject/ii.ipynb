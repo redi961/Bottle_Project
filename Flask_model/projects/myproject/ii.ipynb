{
 "cells": [
  {
   "cell_type": "code",
   "execution_count": null,
   "metadata": {},
   "outputs": [],
   "source": [
    "%cd C:/Users/user/Desktop/Pro_Seoreu/Flask_model/projects/myproject\n",
    "!git clone https://github.com/ultralytics/yolov5.git\n",
    "\n",
    "%cd C:/Users/user/Desktop/Pro_Seoreu/Flask_model/projects/myproject/yolov5\n",
    "!pip install -U -r requirements.txt"
   ]
  },
  {
   "cell_type": "code",
   "execution_count": null,
   "metadata": {},
   "outputs": [],
   "source": [
    "import argparse\n",
    "import os\n",
    "import subprocess\n",
    "import sys\n",
    "\n",
    "%cd C:/Users/user/Desktop/Pro_Seoreu/Flask_model/projects/myproject/\n",
    "# sys.argv 수정\n",
    "i = '소주002.jpg'\n",
    "sys.argv = [sys.argv[0]]\n",
    "parser = argparse.ArgumentParser()\n",
    "parser.add_argument('--source', type=str, default='\\/'+i, help='source')\n",
    "args = parser.parse_args(sys.argv[1:])\n",
    "\n",
    "\n",
    "# 파일 경로 변수 설정\n",
    "file_path = os.path.abspath(args.source)\n",
    "\n",
    "# 명령어 실행\n",
    "cmd = f\"python yolov5/detect.py --weights Model/best.pt --img 512 --source Model{file_path} --save-txt\"\n",
    "subprocess.run(cmd, shell=True)\n"
   ]
  },
  {
   "cell_type": "code",
   "execution_count": 57,
   "metadata": {},
   "outputs": [
    {
     "name": "stdout",
     "output_type": "stream",
     "text": [
      "C:\\Users\\user\\Desktop\\Pro_Seoreu\\Flask_model\\projects\\myproject\\yolov5\n"
     ]
    }
   ],
   "source": [
    "import glob\n",
    "\n",
    "%cd C:/Users/user/Desktop/Pro_Seoreu/Flask_model/projects/myproject/yolov5/\n",
    "import os\n",
    "\n",
    "# 최대 유지할 exp 파일 수\n",
    "max_exp_files = 10\n",
    "\n",
    "# 현재 작업 디렉토리에서 exp 파일 목록 가져오기\n",
    "exp_files = [f for f in os.listdir('.') if f.endswith('.exp')]\n",
    "\n",
    "# exp 파일 수가 최대 값 이상인 경우 가장 오래된 파일부터 삭제\n",
    "if len(exp_files) > max_exp_files:\n",
    "    exp_files.sort(key=os.path.getctime)  # 생성 시간을 기준으로 파일 목록 정렬\n",
    "    for i in range(len(exp_files) - max_exp_files):\n",
    "        os.remove(exp_files[i])"
   ]
  },
  {
   "cell_type": "code",
   "execution_count": 14,
   "metadata": {},
   "outputs": [
    {
     "data": {
      "text/plain": [
       "CompletedProcess(args='python C:/Users/user/Desktop/Pro_Seoreu/Flask_model/projects/myproject/yolov5/detect.py         --weights C:/Users/user/Desktop/Pro_Seoreu/Flask_model/projects/myproject/Model/best.pt         --img 512 --source C:\\\\Users\\\\user\\\\Desktop\\\\Pro_Seoreu\\\\front_End\\\\public\\\\images\\\\소주069.jpg --save-txt', returncode=0)"
      ]
     },
     "execution_count": 14,
     "metadata": {},
     "output_type": "execute_result"
    }
   ],
   "source": [
    "import argparse\n",
    "import os\n",
    "import subprocess\n",
    "import sys\n",
    "# sys.argv 수정\n",
    "# sys.argv = [sys.argv[0]]\n",
    "# parser = argparse.ArgumentParser()\n",
    "# parser.add_argument('--source', type=str, default=Nm, help='source')\n",
    "# args = parser.parse_args(sys.argv[1:]) \n",
    "\n",
    "k = 'C:/Users/user/Desktop/Pro_Seoreu/front_End/public/images/소주069.jpg'\n",
    "# 파일 경로 변수 설정\n",
    "file_path = os.path.abspath(k)\n",
    "# .encode('utf-8').decode('iso-8859-1')\n",
    "\n",
    "# 명령어 실행\n",
    "cmd = f\"python C:/Users/user/Desktop/Pro_Seoreu/Flask_model/projects/myproject/yolov5/detect.py \\\n",
    "        --weights C:/Users/user/Desktop/Pro_Seoreu/Flask_model/projects/myproject/Model/best.pt \\\n",
    "        --img 512 --source {file_path} --save-txt\"\n",
    "subprocess.run(cmd, shell=True)\n",
    "\n"
   ]
  },
  {
   "cell_type": "code",
   "execution_count": 65,
   "metadata": {},
   "outputs": [
    {
     "name": "stdout",
     "output_type": "stream",
     "text": [
      "exp9\n",
      "C:/Users/user/Desktop/Pro_Seoreu/Flask_model/projects/myproject/yolov5/runs/detect/exp9\n",
      "C:/Users/user/Desktop/Pro_Seoreu/Flask_model/projects/myproject/yolov5/runs/detect/exp9/소주153.jpg\n"
     ]
    }
   ],
   "source": [
    "import os\n",
    "from PIL import Image\n",
    "import stat\n",
    "global path\n",
    "path = \"C:/Users/user/Desktop/Pro_Seoreu/Flask_model/projects/myproject/yolov5/runs/detect/\"\n",
    "p = ''\n",
    "i_txt = ''\n",
    "v = ''\n",
    "for i, j, k in os.walk(path):\n",
    "    p = p + j[-1]\n",
    "    break\n",
    "print(p)\n",
    "\n",
    "txt = path + p\n",
    "print(txt)\n",
    "\n",
    "for i, j , k in os.walk(txt):\n",
    "    i_txt = k\n",
    "    break\n",
    "img_save = txt +'/'+i_txt[-1]\n",
    "print(img_save)\n",
    "\n"
   ]
  },
  {
   "cell_type": "code",
   "execution_count": 67,
   "metadata": {},
   "outputs": [
    {
     "name": "stdout",
     "output_type": "stream",
     "text": [
      "C:/Users/user/Desktop/Pro_Seoreu/Flask_model/projects/myproject/yolov5/runs/detect contains 18 files. Removing the folder...\n"
     ]
    }
   ],
   "source": [
    "import os\n",
    "\n",
    "def delete_folder(path):\n",
    "    if os.path.exists(path):\n",
    "        file_count = sum([len(files) for r, d, files in os.walk(path)])\n",
    "        if file_count >= 9:\n",
    "            print(f\"{path} contains {file_count} files. Removing the folder...\")\n",
    "            for root, dirs, files in os.walk(path, topdown=False):\n",
    "                for file in files:\n",
    "                    os.remove(os.path.join(root, file))\n",
    "                for folder in dirs:\n",
    "                    os.rmdir(os.path.join(root, folder))\n",
    "            os.rmdir(path)\n",
    "        else:\n",
    "            print(f\"{path} contains {file_count} files. Nothing to remove.\")\n",
    "    else:\n",
    "        print(f\"{path} does not exist.\")\n",
    "\n",
    "delete_folder('C:/Users/user/Desktop/Pro_Seoreu/Flask_model/projects/myproject/yolov5/runs/detect')\n"
   ]
  }
 ],
 "metadata": {
  "kernelspec": {
   "display_name": "Python 3",
   "language": "python",
   "name": "python3"
  },
  "language_info": {
   "codemirror_mode": {
    "name": "ipython",
    "version": 3
   },
   "file_extension": ".py",
   "mimetype": "text/x-python",
   "name": "python",
   "nbconvert_exporter": "python",
   "pygments_lexer": "ipython3",
   "version": "3.10.10"
  },
  "orig_nbformat": 4
 },
 "nbformat": 4,
 "nbformat_minor": 2
}
